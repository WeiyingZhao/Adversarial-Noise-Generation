{
 "cells": [
  {
   "cell_type": "code",
   "execution_count": null,
   "metadata": {},
   "outputs": [],
   "source": [
    "import torch\n",
    "from PIL import Image\n",
    "\n",
    "from app import AdversarialNoiseGenerator"
   ]
  },
  {
   "cell_type": "code",
   "execution_count": null,
   "metadata": {},
   "outputs": [],
   "source": [
    "# Instantiate the adversarial noise generator\n",
    "generator = AdversarialNoiseGenerator(device='cuda' if torch.cuda.is_available() else 'cpu')\n",
    "\n",
    "# Provide the image path and target class\n",
    "image_path = '/data/pandas.jpg' \n",
    "\n",
    "# Visualize the attack with a randomly selected target class\n",
    "generator.visualize_attack(image_path, target_class=None, epsilon=0.01, num_iterations=100)"
   ]
  },
  {
   "cell_type": "code",
   "execution_count": null,
   "metadata": {},
   "outputs": [],
   "source": [
    "# Classify the original image\n",
    "original_image = Image.open(image_path).convert('RGB')\n",
    "orig_pred_idx, orig_pred_class = generator.classify(original_image)\n",
    "print(f\"The original image is classified as: {orig_pred_class} (class index: {orig_pred_idx})\")\n",
    "\n",
    "# Generate adversarial image and classify it\n",
    "adv_image, _, target_class_name = generator.generate(image_path, target_class=None, epsilon=0.01, num_iterations=100)\n",
    "adv_pred_idx, adv_pred_class = generator.classify(adv_image)\n",
    "print(f\"The adversarial image is classified as: {adv_pred_class} (class index: {adv_pred_idx})\")\n",
    "print(f\"The target class was: {target_class_name}\")"
   ]
  }
 ],
 "metadata": {
  "kernelspec": {
   "display_name": "adversarial_env",
   "language": "python",
   "name": "python3"
  },
  "language_info": {
   "name": "python",
   "version": "3.10.12"
  }
 },
 "nbformat": 4,
 "nbformat_minor": 2
}
